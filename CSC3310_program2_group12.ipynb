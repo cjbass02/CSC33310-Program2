{
 "cells": [
  {
   "cell_type": "markdown",
   "metadata": {},
   "source": [
    "Christian Basso, Konrad Rozpadek, Kyle Robinson\n",
    "\n",
    "Program 2: Benchmarking Insertion and Selection Sorts\n",
    "\n",
    "CSC3310 - 001\n",
    "\n",
    "Febuary 16, 2024"
   ]
  },
  {
   "cell_type": "markdown",
   "metadata": {},
   "source": [
    "# Program 2: Benchmarking Insertion and Selection Sorts"
   ]
  },
  {
   "cell_type": "markdown",
   "metadata": {},
   "source": [
    "## Implimentations"
   ]
  },
  {
   "cell_type": "markdown",
   "metadata": {},
   "source": [
    "### Selection Sort"
   ]
  },
  {
   "cell_type": "code",
   "execution_count": 1,
   "metadata": {},
   "outputs": [],
   "source": [
    "def selection(a):\n",
    "    for j in range(0, len(a) - 1):\n",
    "        smallest = j\n",
    "        for i in range(j + 1, len(a)):\n",
    "            if a[i] < a[smallest]:\n",
    "                smallest = i\n",
    "\n",
    "        temp = a[j]\n",
    "        a[j] = a[smallest]\n",
    "        a[smallest] = temp\n",
    "    return a"
   ]
  },
  {
   "cell_type": "markdown",
   "metadata": {},
   "source": [
    "### Insertion Sort"
   ]
  },
  {
   "cell_type": "code",
   "execution_count": 2,
   "metadata": {},
   "outputs": [
    {
     "name": "stdout",
     "output_type": "stream",
     "text": [
      "[1, 2, 5, 99]\n"
     ]
    }
   ],
   "source": [
    "def insertion(a):\n",
    "    for j in range(len(a)):\n",
    "        key = a[j]\n",
    "        i = j - 1\n",
    "        while i >= 0 and a[i] > key:\n",
    "            a[i + 1] = a[i]\n",
    "            i = i - 1\n",
    "        a[i + 1] = key\n",
    "    return a\n",
    "print(insertion([5,2,1,99]))"
   ]
  },
  {
   "cell_type": "markdown",
   "metadata": {},
   "source": [
    "## Test Cases"
   ]
  },
  {
   "cell_type": "markdown",
   "metadata": {},
   "source": [
    "#### Test Case Generation"
   ]
  },
  {
   "cell_type": "code",
   "execution_count": 5,
   "metadata": {},
   "outputs": [],
   "source": [
    "empty_test = ([],[])\n",
    "keep_sorted_test = (list(range(100)), list(range(100)))\n",
    "inverse_test = (list(range(100, 0, -1)), sorted(list(range(100, 0, -1))))\n",
    "single_element_test = [[3], [3]]\n",
    "def create_random_array(num):\n",
    "    import random\n",
    "    a = []\n",
    "    for i in range(num):\n",
    "        a.append(random.randint(-1e9, 1e9))\n",
    "    return a\n",
    "rand_10 = create_random_array(10)\n",
    "rand_100 = create_random_array(100)\n",
    "rand_1000 = create_random_array(1000)\n",
    "random_10_test = (rand_10, sorted(rand_10))\n",
    "random_100_test = (rand_100, sorted(rand_100))\n",
    "random_1000_test = (rand_1000, sorted(rand_1000))\n",
    "tests = [empty_test, keep_sorted_test, inverse_test, \n",
    "         single_element_test, random_10_test, random_100_test, random_1000_test]"
   ]
  },
  {
   "cell_type": "code",
   "execution_count": 6,
   "metadata": {},
   "outputs": [
    {
     "name": "stdout",
     "output_type": "stream",
     "text": [
      "All tests passed\n"
     ]
    }
   ],
   "source": [
    "for test in tests:\n",
    "    before_sort = test[0]\n",
    "    expected = test[1]\n",
    "    selection_results = selection(before_sort)\n",
    "    insertion_results = insertion(before_sort)\n",
    "    assert expected == selection_results\n",
    "    assert expected == insertion_results\n",
    "print(\"All tests passed\")"
   ]
  },
  {
   "cell_type": "markdown",
   "metadata": {},
   "source": [
    "## Benchmarking"
   ]
  },
  {
   "cell_type": "markdown",
   "metadata": {},
   "source": [
    "### Functions to Create Benchmarking Inputs"
   ]
  },
  {
   "cell_type": "markdown",
   "metadata": {},
   "source": [
    "#### Forwards Sorted (Best Case)"
   ]
  },
  {
   "cell_type": "code",
   "execution_count": 27,
   "metadata": {},
   "outputs": [],
   "source": [
    "def create_forwards_array(num):\n",
    "    a = []\n",
    "    for i in range(0, num):\n",
    "        a.append(i)\n",
    "    return a"
   ]
  },
  {
   "cell_type": "markdown",
   "metadata": {},
   "source": [
    "#### Backwards Sorted (Worst Case)"
   ]
  },
  {
   "cell_type": "code",
   "execution_count": 28,
   "metadata": {},
   "outputs": [],
   "source": [
    "def create_backwards_array(num):\n",
    "    a = []\n",
    "    for i in range(num, 0, -1):\n",
    "        a.append(i)\n",
    "    return a"
   ]
  },
  {
   "cell_type": "markdown",
   "metadata": {},
   "source": [
    "#### Randomly Sorted (Average Case)"
   ]
  },
  {
   "cell_type": "code",
   "execution_count": 29,
   "metadata": {},
   "outputs": [],
   "source": [
    "def create_random_array(num):\n",
    "    import random\n",
    "    a = []\n",
    "    for i in range(num):\n",
    "        a.append(random.randint(0, num))\n",
    "    return a"
   ]
  },
  {
   "cell_type": "markdown",
   "metadata": {},
   "source": [
    "### Creating Benchmarking Inputs"
   ]
  },
  {
   "cell_type": "code",
   "execution_count": 30,
   "metadata": {},
   "outputs": [],
   "source": [
    "forwards_20 = create_forwards_array(20)\n",
    "forwards_200 = create_forwards_array(200)\n",
    "forwards_1000 = create_forwards_array(1000)\n",
    "forwards_5000 = create_forwards_array(5000)\n",
    "forwards_10000 = create_forwards_array(10000)\n",
    "\n",
    "backwards_20 = create_backwards_array(20)\n",
    "backwards_200 = create_backwards_array(200)\n",
    "backwards_1000 = create_backwards_array(1000)\n",
    "backwards_5000 = create_backwards_array(5000)\n",
    "backwards_10000 = create_backwards_array(10000)\n",
    "\n",
    "average_20 = create_random_array(20)\n",
    "average_200 = create_random_array(200)\n",
    "average_1000 = create_random_array(1000)\n",
    "average_5000 = create_random_array(5000)\n",
    "average_10000 = create_random_array(10000)"
   ]
  },
  {
   "cell_type": "markdown",
   "metadata": {},
   "source": [
    "### Benchmarking Function\n",
    "As input, the function takes both a sorting function and the list to sort. It returns the elapsed time in seconds.\n",
    "\n",
    "This function creates a copy of the input to ensure that the original list is not modified.\n"
   ]
  },
  {
   "cell_type": "code",
   "execution_count": 31,
   "metadata": {},
   "outputs": [],
   "source": [
    "import copy\n",
    "import time\n",
    "def benchmark(algorithm, arr):\n",
    "    copy_arr = copy.copy(arr)\n",
    "    start_time = time.perf_counter()\n",
    "    algorithm(copy_arr)\n",
    "    end_time = time.perf_counter()\n",
    "    print(copy_arr)\n",
    "    return end_time - start_time\n"
   ]
  },
  {
   "cell_type": "code",
   "execution_count": 32,
   "metadata": {},
   "outputs": [
    {
     "name": "stdout",
     "output_type": "stream",
     "text": [
      "[0, 1, 3, 3, 3, 6, 7, 8, 9, 10, 11, 13, 13, 14, 15, 18, 18, 18, 19, 20]\n"
     ]
    },
    {
     "data": {
      "text/plain": [
       "2.2799998987466097e-05"
      ]
     },
     "execution_count": 32,
     "metadata": {},
     "output_type": "execute_result"
    }
   ],
   "source": [
    "benchmark(selection, average_20)"
   ]
  }
 ],
 "metadata": {
  "kernelspec": {
   "display_name": "Python 3 (ipykernel)",
   "language": "python",
   "name": "python3"
  },
  "language_info": {
   "codemirror_mode": {
    "name": "ipython",
    "version": 3
   },
   "file_extension": ".py",
   "mimetype": "text/x-python",
   "name": "python",
   "nbconvert_exporter": "python",
   "pygments_lexer": "ipython3",
   "version": "3.11.4"
  }
 },
 "nbformat": 4,
 "nbformat_minor": 2
}
