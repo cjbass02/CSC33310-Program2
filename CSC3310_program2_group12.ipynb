{
 "cells": [
  {
   "cell_type": "markdown",
   "metadata": {},
   "source": [
    "Christian Basso, Konrad Rozpadek, Kyle Robinson\n",
    "\n",
    "Program 2: Benchmarking Insertion and Selection Sorts\n",
    "\n",
    "CSC3310 - 001\n",
    "\n",
    "Febuary 16, 2024"
   ]
  },
  {
   "cell_type": "markdown",
   "metadata": {},
   "source": [
    "# Program 2: Benchmarking Insertion and Selection Sorts"
   ]
  },
  {
   "cell_type": "markdown",
   "metadata": {},
   "source": [
    "## Implimentations"
   ]
  },
  {
   "cell_type": "markdown",
   "metadata": {},
   "source": [
    "### Selection Sort"
   ]
  },
  {
   "cell_type": "code",
   "execution_count": null,
   "outputs": [],
   "source": [
    "def selection(a):\n",
    "    for j in range(0, len(a) - 1):\n",
    "        smallest = j\n",
    "        for i in range(j + 1, len(a)):\n",
    "            if a[i] < a[smallest]:\n",
    "                smallest = i\n",
    "\n",
    "        temp = a[j]\n",
    "        a[j] = a[smallest]\n",
    "        a[smallest] = temp\n",
    "    return a"
   ],
   "metadata": {
    "collapsed": false
   }
  },
  {
   "cell_type": "markdown",
   "metadata": {},
   "source": [
    "### Insertion Sort"
   ]
  },
  {
   "cell_type": "code",
   "execution_count": null,
   "outputs": [],
   "source": [
    "def insertion(a):\n",
    "    for j in range(len(a)):\n",
    "        key = a[j]\n",
    "        i = j - 1\n",
    "        while i >= 0 and a[i] > key:\n",
    "            a[i + 1] = a[i]\n",
    "            i = i - 1\n",
    "        a[i + 1] = key\n",
    "    return a"
   ],
   "metadata": {
    "collapsed": false
   }
  },
  {
   "cell_type": "markdown",
   "metadata": {},
   "source": [
    "## Test Cases"
   ]
  },
  {
   "cell_type": "markdown",
   "metadata": {},
   "source": [
    "## Benchmarking"
   ]
  },
  {
   "cell_type": "markdown",
   "metadata": {},
   "source": [
    "### Functions to Create Benchmarking Inputs"
   ]
  },
  {
   "cell_type": "markdown",
   "metadata": {},
   "source": [
    "### Creating Benchmarking Inputs"
   ]
  },
  {
   "cell_type": "markdown",
   "metadata": {},
   "source": [
    "### Benchmarking Function\n",
    "As input, the function takes both a sorting function and the list to sort. It returns the elapsed time in seconds.\n",
    "\n",
    "This function creates a copy of the input to ensure that the original list is not modified.\n"
   ]
  },
  {
   "cell_type": "code",
   "execution_count": null,
   "metadata": {},
   "outputs": [],
   "source": [
    "def benchmark(algorithm, arr):\n",
    "    # algorithim is a FUNCTION, call algorithm on the arr\n",
    "    # Return time\n",
    "    return 0"
   ]
  },
  {
   "cell_type": "code",
   "execution_count": null,
   "metadata": {},
   "outputs": [],
   "source": []
  }
 ],
 "metadata": {
  "kernelspec": {
   "display_name": "Python 3",
   "language": "python",
   "name": "python3"
  },
  "language_info": {
   "codemirror_mode": {
    "name": "ipython",
    "version": 3
   },
   "file_extension": ".py",
   "mimetype": "text/x-python",
   "name": "python",
   "nbconvert_exporter": "python",
   "pygments_lexer": "ipython3",
   "version": "3.11.8"
  }
 },
 "nbformat": 4,
 "nbformat_minor": 2
}
